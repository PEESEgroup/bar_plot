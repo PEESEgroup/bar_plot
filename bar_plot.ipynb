{
 "cells": [
  {
   "cell_type": "markdown",
   "id": "be48263b",
   "metadata": {},
   "source": [
    "# Python bar plot"
   ]
  },
  {
   "cell_type": "code",
   "execution_count": 1,
   "id": "d7a2ea17",
   "metadata": {},
   "outputs": [],
   "source": [
    "import numpy as np\n",
    "import matplotlib.pyplot as plt"
   ]
  },
  {
   "cell_type": "markdown",
   "id": "0fbf5965",
   "metadata": {},
   "source": [
    "## Basic plot"
   ]
  },
  {
   "cell_type": "code",
   "execution_count": 3,
   "id": "0133cdf4",
   "metadata": {},
   "outputs": [],
   "source": [
    "xaxis = ['2020','2030','2060']\n",
    "yaxis = np.array([232.4903615, 219.30489173, 9.30464342])"
   ]
  },
  {
   "cell_type": "code",
   "execution_count": null,
   "id": "6a833ca8",
   "metadata": {},
   "outputs": [],
   "source": [
    "fig, ax = plt.subplots() # create figure\n",
    "width = 0.5\n",
    "ax.bar(xaxis,yaxis,width) # plot function brackets\n",
    "ax.set_ylabel('Annual CO$_2$ emissions (Tg)') # set y-axis label"
   ]
  },
  {
   "cell_type": "markdown",
   "id": "8cdc508b",
   "metadata": {},
   "source": [
    "## Stacked bar plot"
   ]
  },
  {
   "cell_type": "code",
   "execution_count": 9,
   "id": "f0f33896",
   "metadata": {},
   "outputs": [],
   "source": [
    "year = ['2020','2030','2060']\n",
    "types = ['Gasoline Production','Gasoline Use','Electricity Production','Battery Manufacture','Vehicle Manufacture']\n",
    "\n",
    "col1 = np.array([232.4903615 , 219.30489173,   9.30464342])\n",
    "col2 = np.array([821.75632487, 775.96207863,  41.24247437])\n",
    "col3 = np.array([8.09528431, 260.77831868, 368.86903492])\n",
    "col4 = np.array([2.65890412, 147.01391327, 243.95214992])\n",
    "col5 = np.array([158.62631774, 356.18450773, 418.89916109])"
   ]
  },
  {
   "cell_type": "code",
   "execution_count": null,
   "id": "242522b7",
   "metadata": {
    "scrolled": false
   },
   "outputs": [],
   "source": [
    "fig, ax = plt.subplots(dpi=300,figsize=(7,8)) # set dpi, fig length and height; dpi=300,figsize=(7,8)\n",
    "width=0.5\n",
    "ax.bar(year, col1, width, label=types[0])\n",
    "ax.bar(year, col2, width, bottom=col1, label=types[1]) # add subsequent bar and bar label, set bottom para\n",
    "ax.bar(year, col3, width, bottom=col1+col2, label=types[2])\n",
    "ax.bar(year, col4, width, bottom=col1+col2+col3, label=types[3])\n",
    "ax.bar(year, col5, width, bottom=col1+col2+col3+col4, label=types[4])\n",
    "ax.legend() # add legend\n",
    "ax.set_ylabel('Annual CO$_2$ emission (Tg)')"
   ]
  },
  {
   "cell_type": "markdown",
   "id": "b926e9bb",
   "metadata": {},
   "source": [
    "## Error Bar"
   ]
  },
  {
   "cell_type": "code",
   "execution_count": 12,
   "id": "237ea602",
   "metadata": {},
   "outputs": [],
   "source": [
    "col_all = col1+col2+col3+col4+col5\n",
    "err_up = [22.33432, 449.50750063, 45.80917183]\n",
    "err_low = [10.6254, 190.74913295, 22.84109572]"
   ]
  },
  {
   "cell_type": "code",
   "execution_count": null,
   "id": "4ca33578",
   "metadata": {},
   "outputs": [],
   "source": [
    "fig, ax = plt.subplots(dpi=300,figsize=(7,8))\n",
    "width = 0.5\n",
    "ax.bar(year, col1, width, label=types[0])\n",
    "ax.bar(year, col2, width, bottom=col1, label=types[1])\n",
    "ax.bar(year, col3, width, bottom=col1+col2, label=types[2])\n",
    "ax.bar(year, col4, width, bottom=col1+col2+col3, label=types[3])\n",
    "ax.bar(year, col5, width, bottom=col1+col2+col3+col4, label=types[4])\n",
    "\n",
    "ax.errorbar(year[1:], col_all[1:], yerr=[err_low[1:],err_up[1:]],fmt='None',color='Black',linewidth=1,capsize=4) #error bar function, set fmt='--',color='Black',linewidth=1,capsize=4\n",
    "\n",
    "ax.legend()\n",
    "ax.set_ylabel('Annual CO$_2$ emission (Tg)')"
   ]
  },
  {
   "cell_type": "code",
   "execution_count": null,
   "id": "0664d1ed",
   "metadata": {},
   "outputs": [],
   "source": []
  },
  {
   "cell_type": "markdown",
   "id": "e0995f58",
   "metadata": {},
   "source": [
    "## Additional Scatter"
   ]
  },
  {
   "cell_type": "code",
   "execution_count": 18,
   "id": "4ae56f9d",
   "metadata": {},
   "outputs": [],
   "source": [
    "scenario1 = [1457.03738105,  825.94257148]\n",
    "scenario2 = [1702.90134475,  747.48175887]\n",
    "scenario3 = [1898.96001386, 1226.25171378]\n",
    "scenario4 = [1692.73154299, 1001.24670792]\n",
    "scenario5 = [1747.14318779, 1001.67489542]\n",
    "scenario6 = [1759.0579827 , 1080.83421662]\n",
    "scenario7 = [1751.71718163, 1076.1375415]\n",
    "\n",
    "slabels = ['Fuel Economy','Grid Decarbonization','Vehicle Lightweighting','Vehicle Recycling','V2G','SLB','Battery Chemistry']"
   ]
  },
  {
   "cell_type": "code",
   "execution_count": null,
   "id": "641e7cc4",
   "metadata": {},
   "outputs": [],
   "source": [
    "import matplotlib.cm as mpc\n",
    "cmap = mpc.get_cmap('Set3')\n",
    "cmap"
   ]
  },
  {
   "cell_type": "code",
   "execution_count": null,
   "id": "90d1b15b",
   "metadata": {},
   "outputs": [],
   "source": [
    "fig, ax = plt.subplots(dpi=300,figsize=(7,8))\n",
    "width = 0.5\n",
    "ax.bar(year, col1, width, label=types[0])\n",
    "ax.bar(year, col2, width, bottom=col1, label=types[1])\n",
    "ax.bar(year, col3, width, bottom=col1+col2, label=types[2])\n",
    "ax.bar(year, col4, width, bottom=col1+col2+col3, label=types[3])\n",
    "ax.bar(year, col5, width, bottom=col1+col2+col3+col4, label=types[4])\n",
    "ax.errorbar(year[1:], col_all[1:],yerr=[err_low[1:],err_up[1:]],fmt='None',color='Black',linewidth=1,capsize=4)\n",
    "\n",
    "ax.scatter(year[1:], scenario1, color=cmap(0),label=slabels[0],edgecolor='black',s=200, marker=\"^\")\n",
    "ax.scatter(year[1:], scenario2, color=cmap(1),label=slabels[1],edgecolor='black',s=200, marker=\"^\")\n",
    "ax.scatter(year[1:], scenario3, color=cmap(2),label=slabels[2],edgecolor='black',s=200,marker=\"^\")\n",
    "ax.scatter(year[1:], scenario4, color=cmap(3),label=slabels[3],edgecolor='black',s=200,marker=\"^\")\n",
    "ax.scatter(year[1:], scenario5, color=cmap(4),label=slabels[4],edgecolor='black',s=200,marker=\"^\")\n",
    "ax.scatter(year[1:], scenario6, color=cmap(5),label=slabels[5],edgecolor='black',s=200,marker=\"^\")\n",
    "ax.scatter(year[1:], scenario7, color=cmap(6),label=slabels[6],edgecolor='black',s=200,marker=\"^\")\n",
    "\n",
    "ax.legend()\n",
    "ax.set_ylabel('Annual CO$_2$ emission (Tg)')"
   ]
  },
  {
   "cell_type": "code",
   "execution_count": null,
   "id": "8b90a381",
   "metadata": {},
   "outputs": [],
   "source": [
    "fig, ax = plt.subplots(dpi=300,figsize=(7,8))\n",
    "width = 0.5\n",
    "ax.bar(year, col1, width, label=types[0])\n",
    "ax.bar(year, col2, width, bottom=col1, label=types[1])\n",
    "ax.bar(year, col3, width, bottom=col1+col2, label=types[2])\n",
    "ax.bar(year, col4, width, bottom=col1+col2+col3, label=types[3])\n",
    "ax.bar(year, col5, width, bottom=col1+col2+col3+col4, label=types[4])\n",
    "ax.errorbar(year[1:], col_all[1:],yerr=[err_low[1:],err_up[1:]],fmt='None',color='Black',linewidth=1,capsize=4)\n",
    "\n",
    "for i,iscenario in enumerate([scenario1,scenario2,scenario3,scenario4,scenario5,scenario6,scenario7]):\n",
    "    colors=cmap(i)\n",
    "    if i==6:\n",
    "        colors='white'\n",
    "    ax.scatter(year[1:], iscenario, color=colors,alpha=0.8,edgecolor='black',s=200, marker=\"^\",label=slabels[i])\n",
    "\n",
    "\n",
    "ax.legend()\n",
    "ax.set_ylabel('Annual CO$_2$ emission (Tg)')"
   ]
  },
  {
   "cell_type": "code",
   "execution_count": null,
   "id": "77a66346",
   "metadata": {},
   "outputs": [],
   "source": []
  },
  {
   "cell_type": "code",
   "execution_count": null,
   "id": "7833bb23",
   "metadata": {
    "scrolled": false
   },
   "outputs": [],
   "source": [
    "fig, ax = plt.subplots(dpi=300,figsize=(7,8))\n",
    "width = 0.5\n",
    "ax.bar(year, col1, width, color='#417FA6',label=types[0]) # set color\n",
    "ax.bar(year, col2, width, bottom=col1, color='#9CBCD9', label=types[1])\n",
    "ax.bar(year, col3, width, bottom=(col1+col2), color='#F2B263', label=types[2])\n",
    "ax.bar(year, col4, width, bottom=(col1+col2+col3), color='#589A8D', label=types[3])\n",
    "ax.bar(year, col5, width, bottom=(col1+col2+col3+col4), color='#A3CCAB', label=types[4])\n",
    "ax.errorbar(year[1:], col_all[1:], yerr=[err_low[1:],err_up[1:]],fmt='None',color='Black',linewidth=1,capsize=4)\n",
    "\n",
    "for i,iscenario in enumerate([scenario1,scenario2,scenario3,scenario4,scenario5,scenario6,scenario7]):\n",
    "    colors=cmap(i)\n",
    "    if i==6:\n",
    "        colors='white'\n",
    "    ax.scatter(year[1:], iscenario, color=colors,alpha=0.8,edgecolor='black',s=200, marker=\"^\",label=slabels[i])\n",
    "\n",
    "ax.legend(bbox_to_anchor=(1,-0.1), frameon=False, ncol=2, fontsize=14) # adjust legend\n",
    "ax.set_ylabel('Annual CO$_2$ emission (Tg)', fontsize=18)\n",
    "ax.tick_params(labelsize=18) # adjust tick\n",
    "plt.tight_layout() # adjust layout\n",
    "\n",
    "plt.savefig('C:/Users/zhuyj/Desktop/emission.tiff') # export"
   ]
  },
  {
   "cell_type": "markdown",
   "id": "fba35f8c",
   "metadata": {},
   "source": [
    "## Horizontal bar chart"
   ]
  },
  {
   "cell_type": "code",
   "execution_count": 23,
   "id": "564624c0",
   "metadata": {},
   "outputs": [],
   "source": [
    "err_low_h = [0.15581873, 3.47850646, 1.32046737]\n",
    "err_up_h =[0.16286119, 5.82107782, 2.48711206]"
   ]
  },
  {
   "cell_type": "code",
   "execution_count": 24,
   "id": "9139e449",
   "metadata": {},
   "outputs": [],
   "source": [
    "bdata = ((col1+col2+col3)/col_all*100) # discreate distribution"
   ]
  },
  {
   "cell_type": "code",
   "execution_count": null,
   "id": "d0279c21",
   "metadata": {},
   "outputs": [],
   "source": [
    "fig, ax = plt.subplots(dpi=300,figsize=(9,5))\n",
    "width=0.5\n",
    "ax.barh(year, col1/col_all*100, width, color='#417FA6', label=types[0]) # horizontal bar \n",
    "ax.barh(year, col2/col_all*100, width, left=col1/col_all*100, color='#9CBCD9', label=types[1]) #change bottom to left\n",
    "ax.barh(year, col3/col_all*100, width, left=(col1+col2)/col_all*100, color='#F2B263', label=types[2])\n",
    "ax.barh(year, col4/col_all*100, width, left=(col1+col2+col3)/col_all*100, color='#589A8D', label=types[3])\n",
    "ax.barh(year, col5/col_all*100, width, left=(col1+col2+col3+col4)/col_all*100, color='#A3CCAB', label=types[4])\n",
    "\n",
    "ax.errorbar(bdata[1:], year[1:], xerr=[err_low_h[1:],err_up_h[1:]], linewidth=1.5, fmt='none', ecolor='Black', capsize=3)\n",
    "\n",
    "ax.tick_params(labelsize=18)\n",
    "ax.set_xlabel('CO$_2$ emission contribution (%)', fontsize=18)\n",
    "ax.set_xlim(0,100) # set axis limit\n",
    "ax.legend(loc='center left',bbox_to_anchor=(1,0.5),frameon=False, fontsize=14)\n",
    "plt.tight_layout()"
   ]
  },
  {
   "cell_type": "markdown",
   "id": "b21c94b9",
   "metadata": {},
   "source": [
    "## Grouped and stacked bar plot"
   ]
  },
  {
   "cell_type": "code",
   "execution_count": 26,
   "id": "c118d30d",
   "metadata": {},
   "outputs": [],
   "source": [
    "# Base data\n",
    "values = np.array([[[ 31.53276302,   0.        ,  56.373     , 183.312     ],# numpy array to store data\n",
    "                    [ 36.91021209,  13.32020119,  75.1440576 ,  43.99488   ],\n",
    "                    [ 44.30180525,  38.42365728,  77.7708    ,   0.        ]],\n",
    "\n",
    "                   [[ 30.71361987,   0.        ,  45.0984    , 183.312     ],\n",
    "                    [ 35.91661189,  12.003157  ,  63.7218656 ,  43.99488   ],\n",
    "                    [ 42.4888137 ,  34.62449135,  66.5748    ,   0.        ]],\n",
    "\n",
    "                   [[ 29.07533357,   0.        ,  39.4611    , 183.312     ],\n",
    "                    [ 33.92941147,   9.94265531,  44.1128016 ,  43.99488   ],\n",
    "                    [ 38.86283061,  28.68073647,  44.1828    ,   0.        ]]])\n",
    "\n",
    "# Uncertainty\n",
    "values_e = np.array([[[ 31.53276302,   0.        ,  56.373     , 183.312     ],\n",
    "                    [ 36.91021209,  13.32020119,  75.1440576 ,  43.99488   ],\n",
    "                    [ 44.30180525,  38.42365728,  77.7708    ,   0.        ]],\n",
    "\n",
    "                   [[ 29.89447672,   0.        ,  45.0984    , 146.6496    ],\n",
    "                    [ 34.92301168,  12.003157  ,  54.4565536 ,  43.99488   ],\n",
    "                    [ 40.67582216,  34.62449135,  55.3788    ,   0.        ]],\n",
    "\n",
    "                   [[ 26.61790412,   0.        ,  39.4611    , 128.3184    ],\n",
    "                    [ 30.94861085,   9.94265531,  16.3168656 ,  43.99488   ],\n",
    "                    [ 33.42385597,  28.68073647,  10.5948    ,   0.        ]]])\n",
    "\n",
    "# Scenario\n",
    "scatter_data = [[221.64247672, 194.39740412],\n",
    "                [144.38963818,  97.9183343 ],\n",
    "                [127.82921706,  63.22436132]]"
   ]
  },
  {
   "cell_type": "code",
   "execution_count": 27,
   "id": "1c24038f",
   "metadata": {},
   "outputs": [],
   "source": [
    "year = ['2020', '2030', '2060']\n",
    "labels =['ICEV','PHEV','BEV']\n",
    "ntypes = ['Vehicle Manufacture','Battery Manufacture','Fuel Production','Fuel Consumption']"
   ]
  },
  {
   "cell_type": "code",
   "execution_count": null,
   "id": "16fc0df5",
   "metadata": {},
   "outputs": [],
   "source": [
    "ncmap = mpc.get_cmap('tab20c')\n",
    "ncmap"
   ]
  },
  {
   "cell_type": "code",
   "execution_count": null,
   "id": "41f1aaa0",
   "metadata": {},
   "outputs": [],
   "source": []
  },
  {
   "cell_type": "code",
   "execution_count": null,
   "id": "0ddd8301",
   "metadata": {},
   "outputs": [],
   "source": [
    "fig, ax = plt.subplots(dpi=300,figsize=(5,5))\n",
    "\n",
    "width=0.2\n",
    "x = np.arange(len(year)) # number of groups\n",
    "\n",
    "ax.bar(x, values[:, 0, 0], width, color=ncmap(16),label='ICEV') #all groups ,the first vheicle type, the first emission process\n",
    "ax.bar(x + width, values[:, 1, 0], width, color=ncmap(18),label='PHEV')\n",
    "ax.bar(x + width*2, values[:, 2, 0], width, color=ncmap(19), label='BEV')\n",
    "\n",
    "ax.legend()\n",
    "ax.set_xticks(ticks=x + width,labels=year) # set ticks and labels for clusters"
   ]
  },
  {
   "cell_type": "code",
   "execution_count": null,
   "id": "0015ee69",
   "metadata": {},
   "outputs": [],
   "source": [
    "fig, ax = plt.subplots(dpi=300,figsize=(5,5))\n",
    "\n",
    "width=0.2\n",
    "x = np.arange(len(year))\n",
    "ax.bar(x, values[:, 0, 0], width, color=ncmap(16),label='ICEV')\n",
    "ax.bar(x + width, values[:, 1, 0], width, color=ncmap(18),label='PHEV')\n",
    "ax.bar(x + width*2, values[:, 2, 0], width, color=ncmap(19), label='BEV')\n",
    "ax.set_xticks(x + width)\n",
    "ax.set_xticklabels(year)\n",
    "\n",
    "# add stacked bars\n",
    "for i in range(0,3):\n",
    "    offset = i * width\n",
    "    if i==1:\n",
    "        ax.bar(x + offset, values[:, i, 0], width, color=ncmap(i),label=ntypes[0])\n",
    "        ax.bar(x + offset, values[:, i, 1], width, bottom=np.sum(values[:, i, :1], axis=1), color=ncmap(i+4),label=ntypes[1])\n",
    "        ax.bar(x + offset, values[:, i, 2], width, bottom=np.sum(values[:, i, :2], axis=1), color=ncmap(i+8),label=ntypes[2])\n",
    "        ax.bar(x + offset, values[:, i, 3], width, bottom=np.sum(values[:, i, :3], axis=1), color=ncmap(i+12),label=ntypes[3])\n",
    "    \n",
    "    else:\n",
    "        ax.bar(x + offset, values[:, i, 0], width, color=ncmap(i))\n",
    "        ax.bar(x + offset, values[:, i, 1], width, bottom=np.sum(values[:, i, :1], axis=1), color=ncmap(i+4))\n",
    "        ax.bar(x + offset, values[:, i, 2], width, bottom=np.sum(values[:, i, :2], axis=1), color=ncmap(i+8))\n",
    "        ax.bar(x + offset, values[:, i, 3], width, bottom=np.sum(values[:, i, :3], axis=1), color=ncmap(i+12))\n",
    "    \n",
    "    total_heights = np.sum(values[1:, i, :], axis=1)\n",
    "    ax.errorbar(x[1:] + offset, total_heights, yerr=[total_heights-np.sum(values_e[1:, i, :], axis=1),[0,0]], elinewidth=1,fmt='none', \n",
    "            ecolor='black', capsize=2)\n",
    "\n",
    "\n",
    "ax.scatter(x[1:]+0.2, scatter_data[1], marker='^',color='White',edgecolor='black', zorder=5,label='Battery chemistry')\n",
    "ax.scatter(x[1:]+0.4, scatter_data[2], marker='^',color='White',edgecolor='black', zorder=5)\n",
    "\n",
    "ax.set_ylabel('Life cycle CO$_2$ emission (g/km)', fontsize=12)\n",
    "ax.legend(bbox_to_anchor=(1, -0.1), frameon=False, ncol=2, fontsize=8)\n",
    "\n",
    "plt.tight_layout()\n",
    "plt.savefig('C:/Users/zhuyj/Desktop/LCA.tiff')"
   ]
  },
  {
   "cell_type": "code",
   "execution_count": null,
   "id": "49c9d7e6",
   "metadata": {},
   "outputs": [],
   "source": []
  },
  {
   "cell_type": "markdown",
   "id": "babda593",
   "metadata": {},
   "source": [
    "# The end!\n",
    "# Thanks much!!\n",
    "# Hope you find the information useful!!!"
   ]
  },
  {
   "cell_type": "code",
   "execution_count": null,
   "id": "84f76d6f",
   "metadata": {},
   "outputs": [],
   "source": []
  }
 ],
 "metadata": {
  "kernelspec": {
   "display_name": "Python 3",
   "language": "python",
   "name": "python3"
  },
  "language_info": {
   "codemirror_mode": {
    "name": "ipython",
    "version": 3
   },
   "file_extension": ".py",
   "mimetype": "text/x-python",
   "name": "python",
   "nbconvert_exporter": "python",
   "pygments_lexer": "ipython3",
   "version": "3.8.8"
  }
 },
 "nbformat": 4,
 "nbformat_minor": 5
}
